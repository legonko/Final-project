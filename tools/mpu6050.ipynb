{
 "cells": [
  {
   "cell_type": "code",
   "execution_count": 1,
   "metadata": {},
   "outputs": [],
   "source": [
    "import smbus\n",
    "import time\n",
    "import pickle\n",
    "import numpy as np\n",
    "# from filterpy.kalman import KalmanFilter\n"
   ]
  },
  {
   "cell_type": "code",
   "execution_count": 2,
   "metadata": {},
   "outputs": [],
   "source": [
    "\"\"\"This program handles the communication over I2C\n",
    "between a Jetson Nano and a MPU-6050 Gyroscope / Accelerometer combo.\n",
    "Made by: Dennis/TW\n",
    "Released under the MIT License\n",
    "Copyright 2019\n",
    "\"\"\"\n",
    "class mpu6050:\n",
    "    # Global Variables\n",
    "    GRAVITIY_MS2 = 9.80665\n",
    "    address = 0x68\n",
    "    bus = smbus.SMBus(0)\n",
    "    time.sleep(0.5)\n",
    "    # Scale Modifiers\n",
    "    ACCEL_SCALE_MODIFIER_2G = 16384.0\n",
    "    ACCEL_SCALE_MODIFIER_4G = 8192.0\n",
    "    ACCEL_SCALE_MODIFIER_8G = 4096.0\n",
    "    ACCEL_SCALE_MODIFIER_16G = 2048.0\n",
    "    GYRO_SCALE_MODIFIER_250DEG = 131.0\n",
    "    GYRO_SCALE_MODIFIER_500DEG = 65.5\n",
    "    GYRO_SCALE_MODIFIER_1000DEG = 32.8\n",
    "    GYRO_SCALE_MODIFIER_2000DEG = 16.4\n",
    "    # Pre-defined ranges\n",
    "    ACCEL_RANGE_2G = 0x00\n",
    "    ACCEL_RANGE_4G = 0x08\n",
    "    ACCEL_RANGE_8G = 0x10\n",
    "    ACCEL_RANGE_16G = 0x18\n",
    "    GYRO_RANGE_250DEG = 0x00\n",
    "    GYRO_RANGE_500DEG = 0x08\n",
    "    GYRO_RANGE_1000DEG = 0x10\n",
    "    GYRO_RANGE_2000DEG = 0x18\n",
    "    # MPU-6050 Registers\n",
    "    PWR_MGMT_1 = 0x6B\n",
    "    PWR_MGMT_2 = 0x6C\n",
    "    SELF_TEST_X = 0x0D\n",
    "    SELF_TEST_Y = 0x0E\n",
    "    SELF_TEST_Z = 0x0F\n",
    "    SELF_TEST_A = 0x10\n",
    "    ACCEL_XOUT0 = 0x3B\n",
    "    ACCEL_XOUT1 = 0x3C\n",
    "    ACCEL_YOUT0 = 0x3D\n",
    "    ACCEL_YOUT1 = 0x3E\n",
    "    ACCEL_ZOUT0 = 0x3F\n",
    "    ACCEL_ZOUT1 = 0x40\n",
    "    TEMP_OUT0 = 0x41\n",
    "    TEMP_OUT1 = 0x42\n",
    "    GYRO_XOUT0 = 0x43\n",
    "    GYRO_XOUT1 = 0x44\n",
    "    GYRO_YOUT0 = 0x45\n",
    "    GYRO_YOUT1 = 0x46\n",
    "    GYRO_ZOUT0 = 0x47\n",
    "    GYRO_ZOUT1 = 0x48\n",
    "    ACCEL_CONFIG = 0x1C\n",
    "    GYRO_CONFIG = 0x1B\n",
    "    \n",
    "    def __init__(self, address):\n",
    "        self.address = address\n",
    "        # Wake up the MPU-6050 since it starts in sleep mode\n",
    "        self.bus.write_byte_data(self.address, self.PWR_MGMT_1, 0x00)\n",
    "\n",
    "\n",
    "    # I2C communication methods\n",
    "    def read_i2c_word(self, register):\n",
    "        \"\"\"Read two i2c registers and combine them.\n",
    "        register -- the first register to read from.\n",
    "        Returns the combined read results.\n",
    "        \"\"\"\n",
    "        # Read the data from the registers\n",
    "        high = self.bus.read_byte_data(self.address, register)\n",
    "        low = self.bus.read_byte_data(self.address, register + 1)\n",
    "        value = (high << 8) + low\n",
    "        if (value >= 0x8000):\n",
    "            return -((65535 - value) + 1)\n",
    "        else:\n",
    "            return value\n",
    "        \n",
    "\n",
    "    # MPU-6050 Methods\n",
    "    def get_temp(self):\n",
    "        \"\"\"Reads the temperature from the onboard temperature sensor of the MPU-6050.\n",
    "        Returns the temperature in degrees Celcius.\n",
    "        \"\"\"\n",
    "        # Get the raw data\n",
    "        raw_temp = self.read_i2c_word(self.TEMP_OUT0)\n",
    "        # Get the actual temperature using the formule given in the\n",
    "        # MPU-6050 Register Map and Descriptions revision 4.2, page 30\n",
    "        actual_temp = (raw_temp / 340) + 36.53\n",
    "        # Return the temperature\n",
    "        return actual_temp\n",
    "    \n",
    "\n",
    "    def set_accel_range(self, accel_range):\n",
    "        \"\"\"Sets the range of the accelerometer to range.\n",
    "        accel_range -- the range to set the accelerometer to. Using a\n",
    "        pre-defined range is advised.\n",
    "        \"\"\"\n",
    "        # First change it to 0x00 to make sure we write the correct value later\n",
    "        self.bus.write_byte_data(self.address, self.ACCEL_CONFIG, 0x00)\n",
    "        # Write the new range to the ACCEL_CONFIG register\n",
    "        self.bus.write_byte_data(self.address, self.ACCEL_CONFIG, accel_range)\n",
    "\n",
    "\n",
    "    def read_accel_range(self, raw=False):\n",
    "        \"\"\"Reads the range the accelerometer is set to.\n",
    "        If raw is True, it will return the raw value from the ACCEL_CONFIG\n",
    "        register\n",
    "        If raw is False, it will return an integer: -1, 2, 4, 8 or 16. When it\n",
    "        returns -1 something went wrong.\n",
    "        \"\"\"\n",
    "        # Get the raw value\n",
    "        raw_data = self.bus.read_byte_data(self.address, self.ACCEL_CONFIG)\n",
    "        if raw is True:\n",
    "            return raw_data\n",
    "        elif raw is False:\n",
    "            if raw_data == self.ACCEL_RANGE_2G:\n",
    "                return 2\n",
    "            elif raw_data == self.ACCEL_RANGE_4G:\n",
    "                return 4\n",
    "            elif raw_data == self.ACCEL_RANGE_8G:\n",
    "                return 8\n",
    "            elif raw_data == self.ACCEL_RANGE_16G:\n",
    "                return 16\n",
    "            else:\n",
    "                return -1\n",
    "            \n",
    "\n",
    "    def get_accel_data(self, g=False):\n",
    "        \"\"\"Gets and returns the X, Y and Z values from the accelerometer.\n",
    "        If g is True, it will return the data in g\n",
    "        If g is False, it will return the data in m/s^2\n",
    "        Returns a dictionary with the measurement results.\n",
    "        \"\"\"\n",
    "        # Read the data from the MPU-6050\n",
    "        x = self.read_i2c_word(self.ACCEL_XOUT0)\n",
    "        y = self.read_i2c_word(self.ACCEL_YOUT0)\n",
    "        z = self.read_i2c_word(self.ACCEL_ZOUT0)\n",
    "        accel_scale_modifier = None\n",
    "        accel_range = self.read_accel_range(True)\n",
    "        if accel_range == self.ACCEL_RANGE_2G:\n",
    "            accel_scale_modifier = self.ACCEL_SCALE_MODIFIER_2G\n",
    "        elif accel_range == self.ACCEL_RANGE_4G:\n",
    "            accel_scale_modifier = self.ACCEL_SCALE_MODIFIER_4G\n",
    "        elif accel_range == self.ACCEL_RANGE_8G:\n",
    "            accel_scale_modifier = self.ACCEL_SCALE_MODIFIER_8G\n",
    "        elif accel_range == self.ACCEL_RANGE_16G:\n",
    "            accel_scale_modifier = self.ACCEL_SCALE_MODIFIER_16G\n",
    "        else:\n",
    "            print(\"Unkown range - accel_scale_modifier set to self.ACCEL_SCALE_MODIFIER_2G\")\n",
    "            accel_scale_modifier = self.ACCEL_SCALE_MODIFIER_2G\n",
    "        x = x / accel_scale_modifier\n",
    "        y = y / accel_scale_modifier\n",
    "        z = z / accel_scale_modifier\n",
    "        if g is True:\n",
    "            return {'x': x, 'y': y, 'z': z}\n",
    "        elif g is False:\n",
    "            x = x * self.GRAVITIY_MS2\n",
    "            y = y * self.GRAVITIY_MS2\n",
    "            z = z * self.GRAVITIY_MS2\n",
    "            return {'x': x, 'y': y, 'z': z}\n",
    "        \n",
    "\n",
    "    def set_gyro_range(self, gyro_range):\n",
    "        \"\"\"Sets the range of the gyroscope to range.\n",
    "        gyro_range -- the range to set the gyroscope to. Using a pre-defined\n",
    "        range is advised.\n",
    "        \"\"\"\n",
    "        # First change it to 0x00 to make sure we write the correct value later\n",
    "        self.bus.write_byte_data(self.address, self.GYRO_CONFIG, 0x00)\n",
    "        # Write the new range to the ACCEL_CONFIG register\n",
    "        self.bus.write_byte_data(self.address, self.GYRO_CONFIG, gyro_range)\n",
    "\n",
    "\n",
    "    def read_gyro_range(self, raw=False):\n",
    "        \"\"\"Reads the range the gyroscope is set to.\n",
    "        If raw is True, it will return the raw value from the GYRO_CONFIG\n",
    "        register.\n",
    "        If raw is False, it will return 250, 500, 1000, 2000 or -1. If the\n",
    "        returned value is equal to -1 something went wrong.\n",
    "        \"\"\"\n",
    "        # Get the raw value\n",
    "        raw_data = self.bus.read_byte_data(self.address, self.GYRO_CONFIG)\n",
    "        if raw is True:\n",
    "            return raw_data\n",
    "        elif raw is False:\n",
    "            if raw_data == self.GYRO_RANGE_250DEG:\n",
    "                return 250\n",
    "            elif raw_data == self.GYRO_RANGE_500DEG:\n",
    "                return 500\n",
    "            elif raw_data == self.GYRO_RANGE_1000DEG:\n",
    "                return 1000\n",
    "            elif raw_data == self.GYRO_RANGE_2000DEG:\n",
    "                return 2000\n",
    "            else:\n",
    "                return -1\n",
    "\n",
    "\n",
    "    def get_gyro_data(self):\n",
    "        \"\"\"Gets and returns the X, Y and Z values from the gyroscope.\n",
    "        Returns the read values in a dictionary.\n",
    "        \"\"\"\n",
    "        # Read the raw data from the MPU-6050\n",
    "        x = self.read_i2c_word(self.GYRO_XOUT0)\n",
    "        y = self.read_i2c_word(self.GYRO_YOUT0)\n",
    "        z = self.read_i2c_word(self.GYRO_ZOUT0)\n",
    "        gyro_scale_modifier = None\n",
    "        gyro_range = self.read_gyro_range(True)\n",
    "        if gyro_range == self.GYRO_RANGE_250DEG:\n",
    "            gyro_scale_modifier = self.GYRO_SCALE_MODIFIER_250DEG\n",
    "        elif gyro_range == self.GYRO_RANGE_500DEG:\n",
    "            gyro_scale_modifier = self.GYRO_SCALE_MODIFIER_500DEG\n",
    "        elif gyro_range == self.GYRO_RANGE_1000DEG:\n",
    "            gyro_scale_modifier = self.GYRO_SCALE_MODIFIER_1000DEG\n",
    "        elif gyro_range == self.GYRO_RANGE_2000DEG:\n",
    "            gyro_scale_modifier = self.GYRO_SCALE_MODIFIER_2000DEG\n",
    "        else:\n",
    "            print(\"Unkown range - gyro_scale_modifier set to self.GYRO_SCALE_MODIFIER_250DEG\")\n",
    "            gyro_scale_modifier = self.GYRO_SCALE_MODIFIER_250DEG\n",
    "        x = x / gyro_scale_modifier\n",
    "        y = y / gyro_scale_modifier\n",
    "        z = z / gyro_scale_modifier\n",
    "        return {'x': x, 'y': y, 'z': z}\n",
    "    \n",
    "\n",
    "    def get_all_data(self):\n",
    "        \"\"\"Reads and returns all the available data.\"\"\"\n",
    "        temp = self.get_temp()\n",
    "        accel = self.get_accel_data()\n",
    "        gyro = self.get_gyro_data()\n",
    "        return [accel, gyro, temp]"
   ]
  },
  {
   "cell_type": "code",
   "execution_count": 3,
   "metadata": {},
   "outputs": [],
   "source": [
    "def offset_calculation(mpu):\n",
    "    offsets = [[0.0],[0.0],[0.0]]\n",
    "    buffer_x = []\n",
    "    buffer_y = []\n",
    "    buffer_z = []\n",
    "    for i in range(100):\n",
    "        # accel_data = mpu.get_gyro_data()\n",
    "        # buffer_x.append(accel_data['x'])\n",
    "        # buffer_y.append(accel_data['y'])\n",
    "        # buffer_z.append(accel_data['z'])\n",
    "        gyro_data = mpu.get_gyro_data()\n",
    "                # Угловая скорость\n",
    "        gx = 1000 * gyro_data['x'] / 32768\n",
    "        gy = 1000 * gyro_data['y'] / 32768\n",
    "        gz = 1000 * gyro_data['z'] / 32768\n",
    "        buffer_x.append(gx)\n",
    "        buffer_y.append(gy)\n",
    "        buffer_z.append(gz)\n",
    "    offsets[0] = sum(buffer_x) / 100\n",
    "    offsets[1] = sum(buffer_y) / 100\n",
    "    offsets[2] = sum(buffer_z) / 100\n",
    "\n",
    "    return offsets"
   ]
  },
  {
   "cell_type": "code",
   "execution_count": null,
   "metadata": {},
   "outputs": [],
   "source": [
    "mpu = mpu6050(0x68)\n",
    "mpu.set_accel_range(mpu.ACCEL_RANGE_2G)\n",
    "mpu.set_gyro_range(mpu.GYRO_RANGE_500DEG)\n",
    "print(mpu.get_temp())\n",
    "offsets = offset_calculation(mpu)\n",
    "a = 0.165\n",
    "b = 0.140\n",
    "time_old = time.time()\n",
    "z = 0.0\n",
    "vx = 0.0\n",
    "vy = 0.0\n",
    "vz = 0.0\n",
    "my_filter = KalmanFilter(dim_x=2, dim_z=1)\n",
    "my_filter.x = np.array([[2.],[0.]])       # initial state (location and velocity)\n",
    "my_filter.F = np.array([[1.,1.],[0.,1.]])    # state transition matrix\n",
    "my_filter.H = np.array([[1.,0.]])    # Measurement function\n",
    "my_filter.P *= 1000.                 # covariance matrix\n",
    "my_filter.R = 5                      # state uncertainty\n",
    "my_filter.Q = 5 # process uncertainty\n",
    "\n",
    "while True:\n",
    "    accel_data = mpu.get_accel_data()\n",
    "    ax = accel_data['x'] - offsets[0]\n",
    "    ay = accel_data['y'] - offsets[1]\n",
    "    az = accel_data['z'] - offsets[2]\n",
    "    #ax = round(ax, 3)\n",
    "    # ay = round(ay, 3)\n",
    "    # az = round(az, 3)\n",
    "    #print(\"accel_data:\" + \"  \" + str(ax) + \"    \" + str(ay) + \"  \" + str(az))\n",
    "    time_now = time.time()\n",
    "    my_filter.predict()\n",
    "    my_filter.update(ax)\n",
    "    # do something with the output\n",
    "    ax1 = my_filter.x[1][0]\n",
    "    # my_filter.update(ay)\n",
    "    # my_filter.update(az)\n",
    "    #print(ax1, ax)\n",
    "    dt = time_now - time_old\n",
    "    vx += ax1 * dt\n",
    "    vy += vy + ay * dt\n",
    "    time_old = time_now\n",
    "    print(\"speed_data:\" + \"  \" + str(round(vx, 3)) + \"    \" + str(ax))\n",
    "    gyro_data = mpu.get_gyro_data()\n",
    "                # Угловая скорость\n",
    "    gx = 1000 * gyro_data['x'] / 32768  - offsets[0]\n",
    "    gy = 1000 * gyro_data['y'] / 32768  - offsets[1]\n",
    "    gz = 1000 * gyro_data['z'] / 32768  - offsets[2]\n",
    "    gx = round(gx, 2)\n",
    "    gy = round(gy, 2)\n",
    "    gz = round(gz / 1.72, 3)\n",
    "    \n",
    "    time_now = time.time()\n",
    "    dt = time_now - time_old\n",
    "    z += gz * dt\n",
    "    time_old = time_now\n",
    "    z = round(z, 5)\n",
    "    print(\"gyro:\" + \"  \" + str(gx) + \"   \" + str(gy) + \"  \" + str(gz))\n",
    "    time.sleep(0.05)"
   ]
  },
  {
   "cell_type": "code",
   "execution_count": 66,
   "metadata": {},
   "outputs": [
    {
     "name": "stdout",
     "output_type": "stream",
     "text": [
      "Using matplotlib backend: TkAgg\n"
     ]
    }
   ],
   "source": [
    "%matplotlib\n",
    "import datetime as dt\n",
    "import matplotlib.pyplot as plt\n",
    "import matplotlib.animation as animation\n",
    "\n",
    "# Create figure for plotting\n",
    "fig = plt.figure()\n",
    "ax = fig.add_subplot(1, 1, 1)\n",
    "xs = []\n",
    "ys = []\n",
    "mpu = mpu6050(0x68)\n",
    "\n",
    "# This function is called periodically from FuncAnimation\n",
    "def animate(i, xs, ys):\n",
    "\n",
    "    # Read temperature (Celsius) from TMP102\n",
    "    temp_c = round(mpu.get_temp(), 4)\n",
    "\n",
    "    # Add x and y to lists\n",
    "    xs.append(dt.datetime.now().strftime('%H:%M:%S.%f'))\n",
    "    ys.append(temp_c)\n",
    "\n",
    "    # Limit x and y lists to 20 items\n",
    "    xs = xs[-20:]\n",
    "    ys = ys[-20:]\n",
    "\n",
    "    # Draw x and y lists\n",
    "    ax.clear()\n",
    "    ax.plot(xs, ys)\n",
    "\n",
    "    # Format plot\n",
    "    plt.title('Temperature over Time')\n",
    "    plt.ylabel('Temperature (deg C)')\n",
    "\n",
    "# Set up plot to call animate() function periodically\n",
    "ani = animation.FuncAnimation(fig, animate, fargs=(xs, ys), interval=1000)\n",
    "plt.show()"
   ]
  },
  {
   "cell_type": "code",
   "execution_count": 36,
   "metadata": {},
   "outputs": [
    {
     "ename": "KeyboardInterrupt",
     "evalue": "",
     "output_type": "error",
     "traceback": [
      "\u001b[0;31m---------------------------------------------------------------------------\u001b[0m",
      "\u001b[0;31mKeyboardInterrupt\u001b[0m                         Traceback (most recent call last)",
      "Cell \u001b[0;32mIn[36], line 42\u001b[0m\n\u001b[1;32m     39\u001b[0m vy_all\u001b[38;5;241m.\u001b[39mappend(vy)\n\u001b[1;32m     40\u001b[0m time_old \u001b[38;5;241m=\u001b[39m time_now\n\u001b[0;32m---> 42\u001b[0m \u001b[43mtime\u001b[49m\u001b[38;5;241;43m.\u001b[39;49m\u001b[43msleep\u001b[49m\u001b[43m(\u001b[49m\u001b[38;5;241;43m0.05\u001b[39;49m\u001b[43m)\u001b[49m\n",
      "\u001b[0;31mKeyboardInterrupt\u001b[0m: "
     ]
    }
   ],
   "source": [
    "mpu = mpu6050(0x68)\n",
    "mpu.set_accel_range(mpu.ACCEL_RANGE_2G)\n",
    "mpu.set_gyro_range(mpu.GYRO_RANGE_500DEG)\n",
    "offsets = offset_calculation(mpu)\n",
    "time_old = time.time()\n",
    "vx = 0.0\n",
    "vy = 0.0\n",
    "my_filter = KalmanFilter(dim_x=3, dim_z=3)\n",
    "my_filter.x = np.zeros(3)       # initial state (location and velocity)\n",
    "my_filter.F = np.eye(3)    # state transition matrix\n",
    "my_filter.H = np.eye(3)    # Measurement function\n",
    "my_filter.P = np.eye(3) * 100                 # covariance matrix\n",
    "my_filter.R = 5                      # state uncertainty\n",
    "my_filter.Q = 5 # process uncertainty\n",
    "all_data = []\n",
    "x_kf = []\n",
    "y_kf = []\n",
    "vx_all = []\n",
    "vy_all = []\n",
    "\n",
    "while True:\n",
    "    accel_data = mpu.get_accel_data()\n",
    "    all_data.append(accel_data)\n",
    "    ax = accel_data['x'] - offsets[0]\n",
    "    ay = accel_data['y'] - offsets[1]\n",
    "    az = accel_data['z'] - offsets[2]\n",
    "    time_now = time.time()\n",
    "    my_filter.predict()\n",
    "    my_filter.update([ax, ay, az])\n",
    "    # do something with the output\n",
    "    a_estimated = my_filter.x\n",
    "    ax_est, ay_est = a_estimated[0], a_estimated[1]\n",
    "    x_kf.append(ax_est)\n",
    "    y_kf.append(ay_est)\n",
    "    dt = time_now - time_old\n",
    "    vx += ax_est * dt\n",
    "    vx_all.append(vx)\n",
    "    vy += ay_est * dt\n",
    "    vy_all.append(vy)\n",
    "    time_old = time_now\n",
    "\n",
    "    time.sleep(0.05)"
   ]
  },
  {
   "cell_type": "code",
   "execution_count": 22,
   "metadata": {},
   "outputs": [],
   "source": [
    "with open('saved_accels2', 'wb') as file:\n",
    "    pickle.dump(all_data, file)\n",
    "with open('saved_vx2', 'wb') as file:\n",
    "    pickle.dump(vx_all, file)\n",
    "with open('saved_vy2', 'wb') as file:\n",
    "    pickle.dump(vy_all, file)\n",
    "with open('saved_axkf2', 'wb') as file:\n",
    "    pickle.dump(x_kf, file)\n",
    "with open('saved_aykf2', 'wb') as file:\n",
    "    pickle.dump(y_kf, file)"
   ]
  },
  {
   "cell_type": "code",
   "execution_count": 6,
   "metadata": {},
   "outputs": [],
   "source": [
    "with open('saved_accels2.pickle', 'rb') as file:\n",
    "    all_data = pickle.load(file)\n",
    "with open('saved_vx2.pickle', 'rb') as file:\n",
    "    vx_all = pickle.load(file)\n",
    "with open('saved_vy2.pickle', 'rb') as file:\n",
    "    vy_all = pickle.load(file)\n",
    "with open('saved_axkf2.pickle', 'rb') as file:\n",
    "    x_kf = pickle.load(file)\n",
    "with open('saved_aykf2.pickle', 'rb') as file:\n",
    "    y_kf = pickle.load(file)"
   ]
  },
  {
   "cell_type": "code",
   "execution_count": 13,
   "metadata": {},
   "outputs": [],
   "source": [
    "with open('saved_accels2.pickle', 'rb') as file:\n",
    "    all_data = pickle.load(file)"
   ]
  },
  {
   "cell_type": "code",
   "execution_count": 33,
   "metadata": {},
   "outputs": [],
   "source": [
    "import matplotlib.pyplot as plt"
   ]
  },
  {
   "cell_type": "code",
   "execution_count": 14,
   "metadata": {},
   "outputs": [
    {
     "data": {
      "text/plain": [
       "[<matplotlib.lines.Line2D at 0x205854ae8b0>]"
      ]
     },
     "execution_count": 14,
     "metadata": {},
     "output_type": "execute_result"
    },
    {
     "data": {
      "image/png": "[encoded data removed]",
      "text/plain": [
       "<Figure size 640x480 with 1 Axes>"
      ]
     },
     "metadata": {},
     "output_type": "display_data"
    }
   ],
   "source": [
    "plt.plot([p['x'] for p in all_data])\n",
    "plt.plot([p['y'] for p in all_data])"
   ]
  },
  {
   "cell_type": "code",
   "execution_count": 12,
   "metadata": {},
   "outputs": [
    {
     "data": {
      "text/plain": [
       "[<matplotlib.lines.Line2D at 0x20585501a60>]"
      ]
     },
     "execution_count": 12,
     "metadata": {},
     "output_type": "execute_result"
    },
    {
     "data": {
      "image/png": "[encoded data removed]",
      "text/plain": [
       "<Figure size 640x480 with 1 Axes>"
      ]
     },
     "metadata": {},
     "output_type": "display_data"
    }
   ],
   "source": [
    "plt.plot(x_kf)\n",
    "plt.plot(y_kf)"
   ]
  },
  {
   "cell_type": "code",
   "execution_count": 10,
   "metadata": {},
   "outputs": [
    {
     "data": {
      "text/plain": [
       "[<matplotlib.lines.Line2D at 0x20585411eb0>]"
      ]
     },
     "execution_count": 10,
     "metadata": {},
     "output_type": "execute_result"
    },
    {
     "data": {
      "image/png": "[encoded data removed]",
      "text/plain": [
       "<Figure size 640x480 with 1 Axes>"
      ]
     },
     "metadata": {},
     "output_type": "display_data"
    }
   ],
   "source": [
    "plt.plot(vx_all)"
   ]
  },
  {
   "cell_type": "code",
   "execution_count": 11,
   "metadata": {},
   "outputs": [
    {
     "data": {
      "text/plain": [
       "[<matplotlib.lines.Line2D at 0x205854860d0>]"
      ]
     },
     "execution_count": 11,
     "metadata": {},
     "output_type": "execute_result"
    },
    {
     "data": {
      "image/png": "[encoded data removed]",
      "text/plain": [
       "<Figure size 640x480 with 1 Axes>"
      ]
     },
     "metadata": {},
     "output_type": "display_data"
    }
   ],
   "source": [
    "plt.plot(vy_all)"
   ]
  },
  {
   "cell_type": "markdown",
   "metadata": {},
   "source": [
    "### EKF\n",
    "________________"
   ]
  },
  {
   "cell_type": "code",
   "execution_count": 22,
   "metadata": {},
   "outputs": [],
   "source": [
    "import numpy as np\n",
    "from ahrs.filters import EKF\n",
    "from ahrs.common.orientation import acc2q\n",
    "from scipy.integrate import cumtrapz\n",
    "from scipy.spatial.transform import Rotation as R"
   ]
  },
  {
   "cell_type": "code",
   "execution_count": 29,
   "metadata": {},
   "outputs": [
    {
     "ename": "KeyboardInterrupt",
     "evalue": "",
     "output_type": "error",
     "traceback": [
      "\u001b[0;31m---------------------------------------------------------------------------\u001b[0m",
      "\u001b[0;31mKeyboardInterrupt\u001b[0m                         Traceback (most recent call last)",
      "Cell \u001b[0;32mIn[29], line 53\u001b[0m\n\u001b[1;32m     50\u001b[0m dt \u001b[38;5;241m=\u001b[39m time_now \u001b[38;5;241m-\u001b[39m time_old\n\u001b[1;32m     51\u001b[0m time_old \u001b[38;5;241m=\u001b[39m time_now\n\u001b[0;32m---> 53\u001b[0m \u001b[43mtime\u001b[49m\u001b[38;5;241;43m.\u001b[39;49m\u001b[43msleep\u001b[49m\u001b[43m(\u001b[49m\u001b[38;5;241;43m0.05\u001b[39;49m\u001b[43m)\u001b[49m\n",
      "\u001b[0;31mKeyboardInterrupt\u001b[0m: "
     ]
    }
   ],
   "source": [
    "mpu = mpu6050(0x68)\n",
    "mpu.set_accel_range(mpu.ACCEL_RANGE_2G)\n",
    "mpu.set_gyro_range(mpu.GYRO_RANGE_500DEG)\n",
    "offsets = offset_calculation(mpu)\n",
    "time_old = time.time()\n",
    "vx = 0.0\n",
    "vy = 0.0\n",
    "acc_data = []\n",
    "acc_kf = []\n",
    "gyr_data = []\n",
    "x_kf = []\n",
    "y_kf = []\n",
    "vel_data = []\n",
    "gyro_data = mpu.get_gyro_data()\n",
    "gyr_data.append(gyro_data)\n",
    "wx = gyro_data['x'] - offsets[0]\n",
    "wy = gyro_data['y'] - offsets[1]\n",
    "wz = gyro_data['z'] - offsets[2]\n",
    "accel_data = mpu.get_accel_data()\n",
    "acc_data.append(accel_data)\n",
    "ax = accel_data['x'] - offsets[0]\n",
    "ay = accel_data['y'] - offsets[1]\n",
    "az = accel_data['z'] - offsets[2]\n",
    "Q = []\n",
    "Q.append(acc2q(np.array([[ax,ay,az]])))\n",
    "ekf_estimator = EKF(gyr=np.array([[wx,wy,wz]]), acc=np.array([[ax,ay,az]])) # freq ?\n",
    "\n",
    "while True:\n",
    "    accel_data = mpu.get_accel_data()\n",
    "    acc_data.append(accel_data)\n",
    "    ax = accel_data['x'] - offsets[0]\n",
    "    ay = accel_data['y'] - offsets[1]\n",
    "    az = accel_data['z'] - offsets[2]\n",
    "    gyro_data = mpu.get_gyro_data()\n",
    "    gyr_data.append(gyro_data)\n",
    "    wx = gyro_data['x'] - offsets[0]\n",
    "    wy = gyro_data['y'] - offsets[1]\n",
    "    wz = gyro_data['z'] - offsets[2]\n",
    "    time_now = time.time()\n",
    "    dt = time_now - time_old\n",
    "\n",
    "    orientation = ekf_estimator.update(q=np.array(Q[-1]), gyr=np.array([wx,wy,wz]), acc=np.array([ax,ay,az]))\n",
    "    Q.append(orientation)\n",
    "    q = orientation  # [qw, qx, qy, qz]\n",
    "    r = R.from_quat(Q[-1])\n",
    "    accel_global = np.matmul(r.as_matrix().T, np.array([ax,ay,az])) #acc2q(np.array([[ax,ay,az]]))\n",
    "    velocity = cumtrapz(y=accel_global, dx=dt, initial=0, axis=0)\n",
    "    vel_data.append(velocity)\n",
    "    acc_kf.append(accel_global)\n",
    "    dt = time_now - time_old\n",
    "    time_old = time_now\n",
    "\n",
    "    time.sleep(0.05)"
   ]
  },
  {
   "cell_type": "code",
   "execution_count": 30,
   "metadata": {},
   "outputs": [
    {
     "data": {
      "text/plain": [
       "array([ 0.10623384, -9.8488351 , -0.87974822])"
      ]
     },
     "execution_count": 30,
     "metadata": {},
     "output_type": "execute_result"
    }
   ],
   "source": [
    "accel_global"
   ]
  },
  {
   "cell_type": "code",
   "execution_count": 63,
   "metadata": {},
   "outputs": [
    {
     "data": {
      "text/plain": [
       "[<matplotlib.lines.Line2D at 0x7f46cb1940>]"
      ]
     },
     "execution_count": 63,
     "metadata": {},
     "output_type": "execute_result"
    },
    {
     "data": {
      "image/png": "[encoded data removed]",
      "text/plain": [
       "<Figure size 640x480 with 1 Axes>"
      ]
     },
     "metadata": {},
     "output_type": "display_data"
    }
   ],
   "source": [
    "plt.plot(np.array(acc_kf)[:, 0])\n",
    "plt.plot([p['x'] for p in acc_data])"
   ]
  },
  {
   "cell_type": "code",
   "execution_count": 61,
   "metadata": {},
   "outputs": [
    {
     "data": {
      "text/plain": [
       "{'x': 0.011971008300781249, 'y': -0.15562310791015624, 'z': 9.885658654785155}"
      ]
     },
     "execution_count": 61,
     "metadata": {},
     "output_type": "execute_result"
    }
   ],
   "source": [
    "accel_data"
   ]
  },
  {
   "cell_type": "code",
   "execution_count": 53,
   "metadata": {},
   "outputs": [
    {
     "data": {
      "text/plain": [
       "array([ 0.01056723,  0.03807687,  0.05112237,  0.01768297, -0.3299175 ,\n",
       "       -0.29269882, -0.29074489, -0.28136818, -0.28102212, -0.2896404 ,\n",
       "       -0.28157568, -0.27771819, -0.28481711, -0.27944321, -0.27151834,\n",
       "       -0.27287588, -0.26296234, -0.27458217, -0.2806581 , -0.27099062,\n",
       "       -0.27041597, -0.27443351, -0.27263798, -0.27234544, -0.27072561,\n",
       "       -0.27172843, -0.27096502, -0.28101615, -0.27886291, -0.27234028,\n",
       "       -0.27557092, -0.27917558, -0.27485052, -0.27761579, -0.27191995,\n",
       "       -0.27524567, -0.27526427, -0.2749639 , -0.27532299, -0.27569116,\n",
       "       -0.27643683, -0.27777043, -0.28075411, -0.27699362, -0.33952648,\n",
       "       -0.28190874, -0.27190205, -0.27637736, -0.28595202, -0.27993548,\n",
       "       -0.27878866, -0.28024897, -0.27362956, -0.28177042, -0.28325972,\n",
       "       -0.27680001, -0.27774311, -0.28296098, -0.28322186, -0.27784078,\n",
       "       -0.28087963, -0.28286406, -0.27552164, -0.28077468, -0.28726792,\n",
       "       -0.28008905, -0.27850721, -0.27646172, -0.2788544 , -0.2825468 ,\n",
       "       -0.27659114, -0.27573975, -0.28357766, -0.27751017, -0.27642205,\n",
       "       -0.28456511, -0.27634292, -0.27503776, -0.27933348, -0.28509234,\n",
       "       -0.27858092, -0.26152238, -0.26668344, -0.26898324, -0.27097772,\n",
       "       -0.26254415, -0.26542251])"
      ]
     },
     "execution_count": 53,
     "metadata": {},
     "output_type": "execute_result"
    }
   ],
   "source": [
    "np.array(vel_data)[:, 1]"
   ]
  },
  {
   "cell_type": "code",
   "execution_count": null,
   "metadata": {},
   "outputs": [],
   "source": []
  }
 ],
 "metadata": {
  "kernelspec": {
   "display_name": "Python 3 (ipykernel)",
   "language": "python",
   "name": "python3"
  }
 },
 "nbformat": 4,
 "nbformat_minor": 2
}
