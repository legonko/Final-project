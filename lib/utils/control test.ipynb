{
 "cells": [
  {
   "cell_type": "markdown",
   "metadata": {},
   "source": [
    "### Control system for jetracer "
   ]
  },
  {
   "cell_type": "code",
   "execution_count": 2,
   "metadata": {},
   "outputs": [
    {
     "ename": "ModuleNotFoundError",
     "evalue": "No module named 'jetracer'",
     "output_type": "error",
     "traceback": [
      "\u001b[1;31m---------------------------------------------------------------------------\u001b[0m",
      "\u001b[1;31mModuleNotFoundError\u001b[0m                       Traceback (most recent call last)",
      "Cell \u001b[1;32mIn[2], line 4\u001b[0m\n\u001b[0;32m      2\u001b[0m \u001b[38;5;28;01mimport\u001b[39;00m \u001b[38;5;21;01mmatplotlib\u001b[39;00m\u001b[38;5;21;01m.\u001b[39;00m\u001b[38;5;21;01mpyplot\u001b[39;00m \u001b[38;5;28;01mas\u001b[39;00m \u001b[38;5;21;01mplt\u001b[39;00m\n\u001b[0;32m      3\u001b[0m \u001b[38;5;28;01mimport\u001b[39;00m \u001b[38;5;21;01mcv2\u001b[39;00m\n\u001b[1;32m----> 4\u001b[0m \u001b[38;5;28;01mfrom\u001b[39;00m \u001b[38;5;21;01mjetracer\u001b[39;00m\u001b[38;5;21;01m.\u001b[39;00m\u001b[38;5;21;01mnvidia_racecar\u001b[39;00m \u001b[38;5;28;01mimport\u001b[39;00m NvidiaRacecar\n\u001b[0;32m      5\u001b[0m \u001b[38;5;28;01mfrom\u001b[39;00m \u001b[38;5;21;01mtime\u001b[39;00m \u001b[38;5;28;01mimport\u001b[39;00m sleep\n",
      "\u001b[1;31mModuleNotFoundError\u001b[0m: No module named 'jetracer'"
     ]
    }
   ],
   "source": [
    "import numpy as np\n",
    "import matplotlib.pyplot as plt\n",
    "import cv2\n",
    "from jetracer.nvidia_racecar import NvidiaRacecar\n",
    "from time import sleep"
   ]
  },
  {
   "cell_type": "code",
   "execution_count": null,
   "metadata": {},
   "outputs": [],
   "source": [
    "car = NvidiaRacecar()\n",
    "car.throttle = 0\n",
    "car.steering_offset = 0\n",
    "car.steering_gain = 1\n",
    "car.steering = 0"
   ]
  },
  {
   "cell_type": "code",
   "execution_count": null,
   "metadata": {},
   "outputs": [],
   "source": []
  },
  {
   "cell_type": "code",
   "execution_count": null,
   "metadata": {},
   "outputs": [],
   "source": [
    "\n",
    "\n",
    "\n",
    "\n",
    "def forward()\n",
    "    car.\n",
    "\n",
    "def speed(a):\n",
    "    if a >= 0:\n",
    "        car.throttle = a\n",
    "    else:\n",
    "        car.throttle = -0.1\n",
    "        car.throttle =a\n",
    "\n",
    "sleep(40)\n",
    "car.steering_offset = 0\n",
    "car.steering_gain = 1\n",
    "car.steering = 0\n",
    "car.throttle = 0.40\n",
    "\n",
    "sleep(40)\n",
    "car.throttle = 0\n",
    "\n",
    "FORWARD_SPEED_MAX = 0.5\n",
    "\n",
    "def forward(obj, speed):\n",
    "    # global FORWARD_SPEED_MAX\n",
    "    # current_speed = min(speed+0.05, FORWARD_SPEED_MAX)\n",
    "    current_speed = 0.21\n",
    "    \n",
    "    obj.steering = 0\n",
    "    obj.throttle = current_speed\n",
    "    return current_speed\n",
    "\n",
    "def left(obj, speed):\n",
    "    obj.steering = -0.3\n",
    "    obj.throttle = speed\n",
    "\n",
    "def right(obj, speed):\n",
    "    obj.steering = 0.3\n",
    "    obj.throttle = speed\n",
    "\n",
    "def stop(obj):\n",
    "    obj.throttle = 0\n",
    "\n",
    "\n",
    "\n",
    "current_speed = 0\n",
    "\n"
   ]
  }
 ],
 "metadata": {
  "kernelspec": {
   "display_name": "Python 3",
   "language": "python",
   "name": "python3"
  },
  "language_info": {
   "codemirror_mode": {
    "name": "ipython",
    "version": 3
   },
   "file_extension": ".py",
   "mimetype": "text/x-python",
   "name": "python",
   "nbconvert_exporter": "python",
   "pygments_lexer": "ipython3",
   "version": "3.8.0"
  }
 },
 "nbformat": 4,
 "nbformat_minor": 2
}
